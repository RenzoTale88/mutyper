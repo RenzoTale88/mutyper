{
 "cells": [
  {
   "cell_type": "code",
   "execution_count": 1,
   "metadata": {
    "slideshow": {
     "slide_type": "-"
    }
   },
   "outputs": [],
   "source": [
    "from collections import Counter\n",
    "import gzip"
   ]
  },
  {
   "cell_type": "markdown",
   "metadata": {
    "slideshow": {
     "slide_type": "slide"
    }
   },
   "source": [
    "`mutyper` demo\n",
    "==\n",
    "\n",
    "This notebook demonstrates how to use the Python package [`mutyper`](https://github.com/harrispopgen/mushi/tree/master/mutyper): a utility for... "
   ]
  },
  {
   "cell_type": "markdown",
   "metadata": {
    "slideshow": {
     "slide_type": "slide"
    }
   },
   "source": [
    "## Computing mutation type data to VCF/BCF data\n",
    "\n",
    "- Studying mutation spectra usually begins with computing the mutation type for SNPs in a VCF/BCF file\n",
    "- To polarize SNPs from REF/ALT to ancestral/derived and determine their local context, we need an estimate of the ancestral sequence, which usually takes the form of a FASTA file.\n",
    "- `mutyper` is a Python package for doing this\n",
    "- it also has a command-line interface for easily integrating in more complex bioinformatic pipelines."
   ]
  },
  {
   "cell_type": "markdown",
   "metadata": {
    "slideshow": {
     "slide_type": "slide"
    }
   },
   "source": [
    "### Python API demo\n",
    "Path to an ancestral FASTA file for human chromosome 1"
   ]
  },
  {
   "cell_type": "code",
   "execution_count": 2,
   "metadata": {
    "slideshow": {
     "slide_type": "-"
    }
   },
   "outputs": [],
   "source": [
    "fasta = '../mushi/data/human_ancestor_GRCh37_e59/human_ancestor_1.fa'"
   ]
  },
  {
   "cell_type": "markdown",
   "metadata": {
    "slideshow": {
     "slide_type": "slide"
    }
   },
   "source": [
    "The `mutyper` package has a single module `ancestor` containing a single class `Ancestor`. We now import it and instantiate an `Ancestor` object using our FASTA file, and tell it we're interested in 3-mer context (by default it will be triplet/3-mer)"
   ]
  },
  {
   "cell_type": "code",
   "execution_count": 3,
   "metadata": {
    "slideshow": {
     "slide_type": "-"
    }
   },
   "outputs": [],
   "source": [
    "from ancestor import Ancestor\n",
    "\n",
    "ancestor = Ancestor(fasta, k=3)"
   ]
  },
  {
   "cell_type": "markdown",
   "metadata": {
    "slideshow": {
     "slide_type": "slide"
    }
   },
   "source": [
    "We can access the `fasta` attribute to inspect FASTA record ids"
   ]
  },
  {
   "cell_type": "code",
   "execution_count": 4,
   "metadata": {
    "slideshow": {
     "slide_type": "-"
    }
   },
   "outputs": [
    {
     "data": {
      "text/plain": [
       "odict_keys(['ANCESTOR_for_chromosome:GRCh37:1:1:249250621:1'])"
      ]
     },
     "execution_count": 4,
     "metadata": {},
     "output_type": "execute_result"
    }
   ],
   "source": [
    "ancestor.fasta.keys()"
   ]
  },
  {
   "cell_type": "code",
   "execution_count": 5,
   "metadata": {
    "slideshow": {
     "slide_type": "-"
    }
   },
   "outputs": [],
   "source": [
    "chrom = 'ANCESTOR_for_chromosome:GRCh37:1:1:249250621:1'"
   ]
  },
  {
   "cell_type": "code",
   "execution_count": 6,
   "metadata": {
    "slideshow": {
     "slide_type": "-"
    }
   },
   "outputs": [
    {
     "data": {
      "text/plain": [
       "FastaRecord(\"ANCESTOR_for_chromosome:GRCh37:1:1:249250621:1\")"
      ]
     },
     "execution_count": 6,
     "metadata": {},
     "output_type": "execute_result"
    }
   ],
   "source": [
    "ancestor.fasta[chrom]"
   ]
  },
  {
   "cell_type": "markdown",
   "metadata": {
    "slideshow": {
     "slide_type": "slide"
    }
   },
   "source": [
    "and we can Pythonically slice sequences via fast random access without loading into memory ([`pyfaidx`](https://pythonhosted.org/pyfaidx/) under the hood):"
   ]
  },
  {
   "cell_type": "code",
   "execution_count": 7,
   "metadata": {
    "slideshow": {
     "slide_type": "-"
    }
   },
   "outputs": [
    {
     "data": {
      "text/plain": [
       ">ANCESTOR_for_chromosome:GRCh37:1:1:249250621:1:20000001-20000100\n",
       "AGACTAACATGGAGAAACCCCATCTCTACTAAGGTACAAAATTAGATGGGCATGGTGGTGCACACCTGTAGTCCCAGCTACTTGGGAGGCTGAGGCAGGA"
      ]
     },
     "execution_count": 7,
     "metadata": {},
     "output_type": "execute_result"
    }
   ],
   "source": [
    "start = 20000000\n",
    "end = 20000100\n",
    "ancestor.fasta[chrom][start:end]"
   ]
  },
  {
   "cell_type": "markdown",
   "metadata": {
    "slideshow": {
     "slide_type": "fragment"
    }
   },
   "source": [
    "We can also access these `FastaRecord` slices as string-like biopython `Seq` objects"
   ]
  },
  {
   "cell_type": "code",
   "execution_count": 8,
   "metadata": {
    "slideshow": {
     "slide_type": "-"
    }
   },
   "outputs": [
    {
     "data": {
      "text/plain": [
       "'AGACTAACATGGAGAAACCCCATCTCTACTAAGGTACAAAATTAGATGGGCATGGTGGTGCACACCTGTAGTCCCAGCTACTTGGGAGGCTGAGGCAGGA'"
      ]
     },
     "execution_count": 8,
     "metadata": {},
     "output_type": "execute_result"
    }
   ],
   "source": [
    "ancestor.fasta[chrom][start:end].seq"
   ]
  },
  {
   "cell_type": "markdown",
   "metadata": {
    "slideshow": {
     "slide_type": "slide"
    }
   },
   "source": [
    "**The `mutation_type` method** allows us to specify a SNP by the usual CHROM, POS, REF, ALT, and returns the correctly polarized mutation type as a tuple of ancestral kmer and derived kmer."
   ]
  },
  {
   "cell_type": "code",
   "execution_count": 9,
   "metadata": {
    "slideshow": {
     "slide_type": "-"
    }
   },
   "outputs": [
    {
     "data": {
      "text/plain": [
       "('GAG', 'GTG')"
      ]
     },
     "execution_count": 9,
     "metadata": {},
     "output_type": "execute_result"
    }
   ],
   "source": [
    "ancestor.mutation_type(chrom, 20000000, 'A', 'T')"
   ]
  },
  {
   "cell_type": "code",
   "execution_count": 10,
   "metadata": {
    "slideshow": {
     "slide_type": "-"
    }
   },
   "outputs": [
    {
     "data": {
      "text/plain": [
       "('GAG', 'GTG')"
      ]
     },
     "execution_count": 10,
     "metadata": {},
     "output_type": "execute_result"
    }
   ],
   "source": [
    "ancestor.mutation_type(chrom, 20000000, 'T', 'A')"
   ]
  },
  {
   "cell_type": "markdown",
   "metadata": {
    "slideshow": {
     "slide_type": "fragment"
    }
   },
   "source": [
    "infinite sites violation (i.e. not biallelic)"
   ]
  },
  {
   "cell_type": "code",
   "execution_count": 11,
   "metadata": {},
   "outputs": [
    {
     "data": {
      "text/plain": [
       "(None, None)"
      ]
     },
     "execution_count": 11,
     "metadata": {},
     "output_type": "execute_result"
    }
   ],
   "source": [
    "ancestor.mutation_type(chrom, 20000000, 'T', 'C')"
   ]
  },
  {
   "cell_type": "markdown",
   "metadata": {
    "slideshow": {
     "slide_type": "slide"
    }
   },
   "source": [
    "**The `region_context` method** returns a generator of ancestral contexts over the positions in a region specified as in BED file format CHROM, START, END"
   ]
  },
  {
   "cell_type": "code",
   "execution_count": 12,
   "metadata": {
    "scrolled": false,
    "slideshow": {
     "slide_type": "-"
    }
   },
   "outputs": [
    {
     "name": "stdout",
     "output_type": "stream",
     "text": [
      "GCG GCT AAG CAA TCA GAA AAC ACC CCC None "
     ]
    }
   ],
   "source": [
    "start = 20000105\n",
    "end = 20000115\n",
    "for context in ancestor.region_context(chrom, start, end):\n",
    "    print(context, end=' ')"
   ]
  },
  {
   "cell_type": "markdown",
   "metadata": {
    "slideshow": {
     "slide_type": "fragment"
    }
   },
   "source": [
    "FASTA sites that are not capital ACGT are ambiguous, so context is `None`. "
   ]
  },
  {
   "cell_type": "markdown",
   "metadata": {
    "slideshow": {
     "slide_type": "slide"
    }
   },
   "source": [
    "We can use this generator method to lazily compute the masked genomic target size for each context (which may be useful for normalizing spectra in different regions, or calibrating mutation rates). As an example here's the path to a BED mask file (based on the 1000 Genomes strict mask)."
   ]
  },
  {
   "cell_type": "code",
   "execution_count": 13,
   "metadata": {
    "slideshow": {
     "slide_type": "-"
    }
   },
   "outputs": [],
   "source": [
    "bed = '../mushi/1KG/scons_output/mask.bed.gz'"
   ]
  },
  {
   "cell_type": "markdown",
   "metadata": {
    "slideshow": {
     "slide_type": "slide"
    }
   },
   "source": [
    "Loop over BED file entries and update a `Counter` object for the different triplets (we'll just do the first 1000 entries)"
   ]
  },
  {
   "cell_type": "code",
   "execution_count": 14,
   "metadata": {},
   "outputs": [
    {
     "name": "stdout",
     "output_type": "stream",
     "text": [
      "Counter({None: 102186, 'CCC': 20202, 'CAG': 17463, 'GCC': 16467, 'CCT': 14828, 'CCA': 14039, 'GAG': 11975, 'CAC': 11748, 'TCC': 11111, 'GCT': 10598, 'GCA': 10462, 'ACC': 8539, 'TCT': 7907, 'ACA': 7791, 'GAC': 7134, 'TCA': 6794, 'CCG': 6784, 'AAG': 6256, 'AAA': 5847, 'GAA': 5841, 'CAA': 4950, 'GCG': 4844, 'ACT': 4808, 'CAT': 4778, 'AAC': 4009, 'ACG': 3653, 'GAT': 3496, 'AAT': 3018, 'TAA': 2513, 'TCG': 2484, 'TAG': 2461, 'TAC': 2245, 'TAT': 1882})\n"
     ]
    }
   ],
   "source": [
    "target_sizes = Counter()\n",
    "for ct, line in enumerate(gzip.open(bed, 'rt')):\n",
    "    this_chrom, start, end = line.split('\\t')\n",
    "    target_sizes.update(ancestor.region_context(chrom, int(start), int(end)))\n",
    "    if ct > 1000:\n",
    "        break\n",
    "print(target_sizes)"
   ]
  },
  {
   "cell_type": "markdown",
   "metadata": {
    "slideshow": {
     "slide_type": "slide"
    }
   },
   "source": [
    "### Command line interface demo\n",
    "\n",
    "Path to a BCF file for chromosome 22 from the 1000 Genomes Project."
   ]
  },
  {
   "cell_type": "code",
   "execution_count": 15,
   "metadata": {},
   "outputs": [],
   "source": [
    "bcf = '../mushi/data/phase3_1000genomes/bcfs/ALL.chr1.phase3_shapeit2_mvncall_integrated_v5.20130502.genotypes.bcf'"
   ]
  },
  {
   "cell_type": "markdown",
   "metadata": {
    "slideshow": {
     "slide_type": "slide"
    }
   },
   "source": [
    "Here's a bash cell (not python, due to the `!`) that pipes SNP data filtered with [`bcftools view`](http://samtools.github.io/bcftools/bcftools.html#view) into **the [`mutyper.ancestor`](https://github.com/harrispopgen/mushi/blob/master/mutyper/ancestor.py) program** to add mutation_type to the INFO field. (for speed will just look at a 1kb region). This program takes an optional argument `k` to define kmer size (3 by default). We then pipe to [`bcftools query`](http://samtools.github.io/bcftools/bcftools.html#query) to show that the INFO field now contains mutation_type"
   ]
  },
  {
   "cell_type": "code",
   "execution_count": 16,
   "metadata": {},
   "outputs": [
    {
     "name": "stdout",
     "output_type": "stream",
     "text": [
      "1\t100000012\tG\tT\tCCA>CAA\r\n",
      "1\t100000081\tC\tT\tGCT>GTT\r\n",
      "1\t100000185\tC\tT\tCCG>CTG\r\n",
      "1\t100000268\tG\tT\tCCT>CAT\r\n",
      "1\t100000320\tA\tG\tCAA>CGA\r\n"
     ]
    }
   ],
   "source": [
    "!bcftools view -T {bed} -r1:100000000-101000000 -m2 -M2 -v snps -c 1:minor -Ou -f PASS -U {bcf} \\\n",
    " | python ancestor.py {fasta} \\\n",
    " | bcftools query -f '%CHROM\\t%POS\\t%REF\\t%ALT\\t%INFO/mutation_type\\n' | head -5"
   ]
  },
  {
   "cell_type": "markdown",
   "metadata": {
    "slideshow": {
     "slide_type": "slide"
    }
   },
   "source": [
    "We can compute ancestral sequence content in a pipelined fashion too. We use [`tabix`](http://www.htslib.org/doc/tabix.html) to filter the gzipped BED mask file to a region of interest (first 10Mb of chromosome 1), and pipe that to **the [`mutyper.masked_size`](https://github.com/harrispopgen/mushi/blob/master/mutyper/masked_size.py) program** to print the triplet-wise target sizes in tabular format. This program also takes an optional argument `k`."
   ]
  },
  {
   "cell_type": "code",
   "execution_count": 17,
   "metadata": {},
   "outputs": [
    {
     "name": "stdout",
     "output_type": "stream",
     "text": [
      "AAA\t67863\r\n",
      "AAC\t24350\r\n",
      "AAG\t33414\r\n",
      "AAT\t45656\r\n",
      "ACA\t31404\r\n",
      "ACC\t15653\r\n",
      "ACG\t2300\r\n",
      "ACT\t26517\r\n",
      "CAA\t30469\r\n",
      "CAC\t18888\r\n"
     ]
    }
   ],
   "source": [
    "!tabix -p bed {bed} 1:100000000-101000000 \\\n",
    "| python masked_size.py {fasta} | head"
   ]
  },
  {
   "cell_type": "markdown",
   "metadata": {
    "slideshow": {
     "slide_type": "slide"
    }
   },
   "source": [
    "Finally, we can pipe BCF/VCF data containing mutation_type data in the INFO field (see above) to **the program [`mutyper.ksfs`](https://github.com/harrispopgen/mushi/blob/master/mutyper/ksfs.py)** to compute a $k$-SFS in tabular form. The $k$-SFS is a matrix of the count of each mutation type (columns) in the input SNP data at each allele frequency (rows). This can also be used to compute mutation spectra of individuals.\n",
    "\n",
    "**A single individual's mutation spectrum** (filter the BCF to sample HG00096):"
   ]
  },
  {
   "cell_type": "code",
   "execution_count": 18,
   "metadata": {},
   "outputs": [
    {
     "name": "stdout",
     "output_type": "stream",
     "text": [
      "AAA>ACA\tAAA>AGA\tAAA>ATA\tAAC>ACC\tAAC>AGC\tAAC>ATC\tAAG>ACG\tAAG>AGG\tAAG>ATG\tAAT>ACT\r\n",
      "8\t15\t5\t2\t8\t3\t3\t13\t2\t5\r\n",
      "\r\n"
     ]
    }
   ],
   "source": [
    "!bcftools view -T {bed} -r1:100000000-101000000 -m2 -M2 -v snps -c 1:minor -Ou -f PASS -U {bcf} \\\n",
    " | bcftools view -s HG00096 -c 1:minor \\\n",
    " | python ancestor.py {fasta} | python spectrum.py \\\n",
    " | cut -f-10"
   ]
  },
  {
   "cell_type": "markdown",
   "metadata": {
    "slideshow": {
     "slide_type": "slide"
    }
   },
   "source": [
    "**$k$-SFS of all individuals in the BCF**"
   ]
  },
  {
   "cell_type": "code",
   "execution_count": 19,
   "metadata": {},
   "outputs": [
    {
     "name": "stdout",
     "output_type": "stream",
     "text": [
      "sample_frequency\tAAA>ACA\tAAA>AGA\tAAA>ATA\tAAC>ACC\tAAC>AGC\tAAC>ATC\tAAG>ACG\tAAG>AGG\tAAG>ATG\r\n",
      "1\t109\t207\t65\t40\t117\t23\t57\t152\t31\r\n",
      "2\t17\t34\t15\t12\t19\t10\t9\t34\t3\r\n",
      "3\t8\t22\t10\t1\t13\t2\t7\t9\t4\r\n",
      "4\t9\t10\t10\t4\t10\t1\t5\t9\t2\r\n",
      "5\t6\t7\t5\t3\t6\t1\t4\t6\t3\r\n",
      "6\t5\t5\t3\t2\t4\t1\t1\t5\t2\r\n",
      "7\t4\t3\t3\t0\t5\t1\t0\t1\t2\r\n",
      "8\t6\t5\t2\t2\t4\t1\t7\t3\t0\r\n",
      "9\t2\t3\t0\t1\t5\t1\t1\t3\t1\r\n"
     ]
    }
   ],
   "source": [
    "!bcftools view -T {bed} -r1:100000000-101000000 -m2 -M2 -v snps -c 1:minor -Ou -f PASS -U {bcf} \\\n",
    " | python ancestor.py {fasta} | python spectrum.py \\\n",
    " | head -10 | cut -f-10"
   ]
  }
 ],
 "metadata": {
  "celltoolbar": "Slideshow",
  "kernelspec": {
   "display_name": "Python 3",
   "language": "python",
   "name": "python3"
  },
  "language_info": {
   "codemirror_mode": {
    "name": "ipython",
    "version": 3
   },
   "file_extension": ".py",
   "mimetype": "text/x-python",
   "name": "python",
   "nbconvert_exporter": "python",
   "pygments_lexer": "ipython3",
   "version": "3.7.6"
  }
 },
 "nbformat": 4,
 "nbformat_minor": 4
}
